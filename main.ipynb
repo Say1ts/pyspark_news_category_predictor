{
 "cells": [
  {
   "cell_type": "markdown",
   "metadata": {
    "id": "AwqSJ851-RNM"
   },
   "source": [
    "Подключаем GoogleDrive"
   ]
  },
  {
   "cell_type": "code",
   "execution_count": null,
   "metadata": {
    "colab": {
     "base_uri": "https://localhost:8080/"
    },
    "id": "CY7mC2bWbFAa",
    "outputId": "9cf7bfba-fc23-4f22-9e3d-039893943763"
   },
   "outputs": [
    {
     "name": "stdout",
     "output_type": "stream",
     "text": [
      "Drive already mounted at /content/drive; to attempt to forcibly remount, call drive.mount(\"/content/drive\", force_remount=True).\n"
     ]
    }
   ],
   "source": [
    "from google.colab import drive\n",
    "drive.mount('/content/drive')"
   ]
  },
  {
   "cell_type": "markdown",
   "metadata": {
    "id": "qCvrINmQyDma"
   },
   "source": [
    "Устанавливаем OpenJDK"
   ]
  },
  {
   "cell_type": "code",
   "execution_count": null,
   "metadata": {
    "id": "MjHiEZSoK7h9"
   },
   "outputs": [],
   "source": [
    "!apt-get install openjdk-11-jdk-headless -qq > /dev/null"
   ]
  },
  {
   "cell_type": "markdown",
   "metadata": {
    "id": "UT-adp1AyMTj"
   },
   "source": [
    "Устанавливаем переменные окружения, необходимые для скачивания дистрибутива Spark"
   ]
  },
  {
   "cell_type": "code",
   "execution_count": null,
   "metadata": {
    "id": "P2CcPc8uRiOI"
   },
   "outputs": [],
   "source": [
    "import os\n",
    "os.environ['APACHE_SPARK_DISTR_NAME'] = 'spark-3.0.2-bin-hadoop2.7'\n",
    "os.environ['APACHE_SPARK_URL'] = 'https://downloads.apache.org/spark/spark-3.0.2/spark-3.0.2-bin-hadoop2.7.tgz'"
   ]
  },
  {
   "cell_type": "markdown",
   "metadata": {
    "id": "MOLBzysvyVNR"
   },
   "source": [
    "Скачиваем и распаковываем архив с дистрибутивом Spark"
   ]
  },
  {
   "cell_type": "code",
   "execution_count": null,
   "metadata": {
    "id": "h9GkCW-BMwWk"
   },
   "outputs": [],
   "source": [
    "![ ! -d $APACHE_SPARK_DISTR_NAME ] \\\n",
    "   && wget -q $APACHE_SPARK_URL \\\n",
    "   && tar xf $APACHE_SPARK_DISTR_NAME.tgz \\\n",
    "   && rm -f $APACHE_SPARK_DISTR_NAME.tgz"
   ]
  },
  {
   "cell_type": "markdown",
   "metadata": {
    "id": "qpLlQgEsydcb"
   },
   "source": [
    "Устанавливаем переменные окружения, необходимые для работы дистрибутива Spark"
   ]
  },
  {
   "cell_type": "code",
   "execution_count": null,
   "metadata": {
    "id": "jm0Bl_9MLXeM"
   },
   "outputs": [],
   "source": [
    "os.environ['JAVA_HOME'] = '/usr/lib/jvm/java-11-openjdk-amd64'\n",
    "os.environ['SPARK_HOME'] = '/content/spark-3.0.2-bin-hadoop2.7'"
   ]
  },
  {
   "cell_type": "markdown",
   "metadata": {
    "id": "YJOXnopJykZL"
   },
   "source": [
    "Устанавливаем пакет findspark"
   ]
  },
  {
   "cell_type": "code",
   "execution_count": null,
   "metadata": {
    "id": "uM5W1Ck_M0pM"
   },
   "outputs": [],
   "source": [
    "!pip install findspark > /dev/null"
   ]
  },
  {
   "cell_type": "code",
   "execution_count": null,
   "metadata": {
    "colab": {
     "base_uri": "https://localhost:8080/",
     "height": 108
    },
    "id": "6Pnz8lA-y26R",
    "outputId": "e86f846e-5582-40e8-c03f-848927781994"
   },
   "outputs": [
    {
     "data": {
      "application/vnd.google.colaboratory.intrinsic+json": {
       "type": "string"
      },
      "text/plain": [
       "'[\"http\",\"https\",\"amp\",\"rt\",\"t\",\"c\",\"the\",\\'able\\', \\'about\\', \\'above\\', \\'abroad\\', \\'according\\', \\'accordingly\\', \\'across\\', \\'actually\\', \\'adj\\', \\'after\\', \\'afterwards\\', \\'again\\', \\'against\\', \\'ago\\', \\'ahead\\', \"ain\\'t\", \\'all\\', \\'allow\\', \\'allows\\', \\'almost\\', \\'alone\\', \\'along\\', \\'alongside\\', \\'already\\', \\'also\\', \\'although\\', \\'always\\', \\'am\\', \\'amid\\', \\'amidst\\', \\'among\\', \\'amongst\\', \\'an\\', \\'and\\', \\'another\\', \\'any\\', \\'anybody\\', \\'anyhow\\', \\'anyone\\', \\'anything\\', \\'anyway\\', \\'anyways\\', \\'anywhere\\', \\'apart\\', \\'appear\\', \\'appreciate\\', \\'appropriate\\', \\'are\\', \"aren\\'t\", \\'around\\', \\'as\\', \"a\\'s\", \\'aside\\', \\'ask\\', \\'asking\\', \\'associated\\', \\'at\\', \\'available\\', \\'away\\', \\'awfully\\', \\'back\\', \\'backward\\', \\'backwards\\', \\'be\\', \\'became\\', \\'because\\', \\'become\\', \\'becomes\\', \\'becoming\\', \\'been\\', \\'before\\', \\'beforehand\\', \\'begin\\', \\'behind\\', \\'being\\', \\'believe\\', \\'below\\', \\'beside\\', \\'besides\\', \\'best\\', \\'better\\', \\'between\\', \\'beyond\\', \\'both\\', \\'brief\\', \\'but\\', \\'by\\', \\'came\\', \\'can\\', \\'cannot\\', \\'cant\\', \"can\\'t\", \\'caption\\', \\'cause\\', \\'causes\\', \\'certain\\', \\'certainly\\', \\'changes\\', \\'clearly\\', \"c\\'mon\", \\'co\\', \\'co.\\', \\'com\\', \\'come\\', \\'comes\\', \\'concerning\\', \\'consequently\\', \\'consider\\', \\'considering\\', \\'contain\\', \\'containing\\', \\'contains\\', \\'corresponding\\', \\'could\\', \"couldn\\'t\", \\'course\\', \"c\\'s\", \\'currently\\', \\'dare\\', \"daren\\'t\", \\'definitely\\', \\'described\\', \\'despite\\', \\'did\\', \"didn\\'t\", \\'different\\', \\'directly\\', \\'do\\', \\'does\\', \"doesn\\'t\", \\'doing\\', \\'done\\', \"don\\'t\", \\'down\\', \\'downwards\\', \\'during\\', \\'each\\', \\'edu\\', \\'eg\\', \\'eight\\', \\'eighty\\', \\'either\\', \\'else\\', \\'elsewhere\\', \\'end\\', \\'ending\\', \\'enough\\', \\'entirely\\', \\'especially\\', \\'et\\', \\'etc\\', \\'even\\', \\'ever\\', \\'evermore\\', \\'every\\', \\'everybody\\', \\'everyone\\', \\'everything\\', \\'everywhere\\', \\'ex\\', \\'exactly\\', \\'example\\', \\'except\\', \\'fairly\\', \\'far\\', \\'farther\\', \\'few\\', \\'fewer\\', \\'fifth\\', \\'first\\', \\'five\\', \\'followed\\', \\'following\\', \\'follows\\', \\'for\\', \\'forever\\', \\'former\\', \\'formerly\\', \\'forth\\', \\'forward\\', \\'found\\', \\'four\\', \\'from\\', \\'further\\', \\'furthermore\\', \\'get\\', \\'gets\\', \\'getting\\', \\'given\\', \\'gives\\', \\'go\\', \\'goes\\', \\'going\\', \\'gone\\', \\'got\\', \\'gotten\\', \\'greetings\\', \\'had\\', \"hadn\\'t\", \\'half\\', \\'happens\\', \\'hardly\\', \\'has\\', \"hasn\\'t\", \\'have\\', \"haven\\'t\", \\'having\\', \\'he\\', \"he\\'d\", \"he\\'ll\", \\'hello\\', \\'help\\', \\'hence\\', \\'her\\', \\'here\\', \\'hereafter\\', \\'hereby\\', \\'herein\\', \"here\\'s\", \\'hereupon\\', \\'hers\\', \\'herself\\', \"he\\'s\", \\'hi\\', \\'him\\', \\'himself\\', \\'his\\', \\'hither\\', \\'hopefully\\', \\'how\\', \\'howbeit\\', \\'however\\', \\'hundred\\', \"i\\'d\", \\'ie\\', \\'if\\', \\'ignored\\', \"i\\'ll\", \"i\\'m\", \\'immediate\\', \\'in\\', \\'inasmuch\\', \\'inc\\', \\'inc.\\', \\'indeed\\', \\'indicate\\', \\'indicated\\', \\'indicates\\', \\'inner\\', \\'inside\\', \\'insofar\\', \\'instead\\', \\'into\\', \\'inward\\', \\'is\\', \"isn\\'t\", \\'it\\', \"it\\'d\", \"it\\'ll\", \\'its\\', \"it\\'s\", \\'itself\\', \"i\\'ve\", \\'just\\', \\'k\\', \\'keep\\', \\'keeps\\', \\'kept\\', \\'know\\', \\'known\\', \\'knows\\', \\'last\\', \\'lately\\', \\'later\\', \\'latter\\', \\'latterly\\', \\'least\\', \\'less\\', \\'lest\\', \\'let\\', \"let\\'s\", \\'like\\', \\'liked\\', \\'likely\\', \\'likewise\\', \\'little\\', \\'look\\', \\'looking\\', \\'looks\\', \\'low\\', \\'lower\\', \\'ltd\\', \\'made\\', \\'mainly\\', \\'make\\', \\'makes\\', \\'many\\', \\'may\\', \\'maybe\\', \"mayn\\'t\", \\'me\\', \\'mean\\', \\'meantime\\', \\'meanwhile\\', \\'merely\\', \\'might\\', \"mightn\\'t\", \\'mine\\', \\'minus\\', \\'miss\\', \\'more\\', \\'moreover\\', \\'most\\', \\'mostly\\', \\'mr\\', \\'mrs\\', \\'much\\', \\'must\\', \"mustn\\'t\", \\'my\\', \\'myself\\', \\'name\\', \\'namely\\', \\'nd\\', \\'near\\', \\'nearly\\', \\'necessary\\', \\'need\\', \"needn\\'t\", \\'needs\\', \\'neither\\', \\'never\\', \\'neverf\\', \\'neverless\\', \\'nevertheless\\', \\'new\\', \\'next\\', \\'nine\\', \\'ninety\\', \\'no\\', \\'nobody\\', \\'non\\', \\'none\\', \\'nonetheless\\', \\'noone\\', \\'no-one\\', \\'nor\\', \\'normally\\', \\'not\\', \\'nothing\\', \\'notwithstanding\\', \\'novel\\', \\'now\\', \\'nowhere\\', \\'obviously\\', \\'of\\', \\'off\\', \\'often\\', \\'oh\\', \\'ok\\', \\'okay\\', \\'old\\', \\'on\\', \\'once\\', \\'one\\', \\'ones\\', \"one\\'s\", \\'only\\', \\'onto\\', \\'opposite\\', \\'or\\', \\'other\\', \\'others\\', \\'otherwise\\', \\'ought\\', \"oughtn\\'t\", \\'our\\', \\'ours\\', \\'ourselves\\', \\'out\\', \\'outside\\', \\'over\\', \\'overall\\', \\'own\\', \\'particular\\', \\'particularly\\', \\'past\\', \\'per\\', \\'perhaps\\', \\'placed\\', \\'please\\', \\'plus\\', \\'possible\\', \\'presumably\\', \\'probably\\', \\'provided\\', \\'provides\\', \\'que\\', \\'quite\\', \\'qv\\', \\'rather\\', \\'rd\\', \\'re\\', \\'really\\', \\'reasonably\\', \\'recent\\', \\'recently\\', \\'regarding\\', \\'regardless\\', \\'regards\\', \\'relatively\\', \\'respectively\\', \\'right\\', \\'round\\', \\'said\\', \\'same\\', \\'saw\\', \\'say\\', \\'saying\\', \\'says\\', \\'second\\', \\'secondly\\', \\'see\\', \\'seeing\\', \\'seem\\', \\'seemed\\', \\'seeming\\', \\'seems\\', \\'seen\\', \\'self\\', \\'selves\\', \\'sensible\\', \\'sent\\', \\'serious\\', \\'seriously\\', \\'seven\\', \\'several\\', \\'shall\\', \"shan\\'t\", \\'she\\', \"she\\'d\", \"she\\'ll\", \"she\\'s\", \\'should\\', \"shouldn\\'t\", \\'since\\', \\'six\\', \\'so\\', \\'some\\', \\'somebody\\', \\'someday\\', \\'somehow\\', \\'someone\\', \\'something\\', \\'sometime\\', \\'sometimes\\', \\'somewhat\\', \\'somewhere\\', \\'soon\\', \\'sorry\\', \\'specified\\', \\'specify\\', \\'specifying\\', \\'still\\', \\'sub\\', \\'such\\', \\'sup\\', \\'sure\\', \\'take\\', \\'taken\\', \\'taking\\', \\'tell\\', \\'tends\\', \\'th\\', \\'than\\', \\'thank\\', \\'thanks\\', \\'thanx\\', \\'that\\', \"that\\'ll\", \\'thats\\', \"that\\'s\", \"that\\'ve\", \\'the\\', \\'their\\', \\'theirs\\', \\'them\\', \\'themselves\\', \\'then\\', \\'thence\\', \\'there\\', \\'thereafter\\', \\'thereby\\', \"there\\'d\", \\'therefore\\', \\'therein\\', \"there\\'ll\", \"there\\'re\", \\'theres\\', \"there\\'s\", \\'thereupon\\', \"there\\'ve\", \\'these\\', \\'they\\', \"they\\'d\", \"they\\'ll\", \"they\\'re\", \"they\\'ve\", \\'thing\\', \\'things\\', \\'think\\', \\'third\\', \\'thirty\\', \\'this\\', \\'thorough\\', \\'thoroughly\\', \\'those\\', \\'though\\', \\'three\\', \\'through\\', \\'throughout\\', \\'thru\\', \\'thus\\', \\'till\\', \\'to\\', \\'together\\', \\'too\\', \\'took\\', \\'toward\\', \\'towards\\', \\'tried\\', \\'tries\\', \\'truly\\', \\'try\\', \\'trying\\', \"t\\'s\", \\'twice\\', \\'two\\', \\'un\\', \\'under\\', \\'underneath\\', \\'undoing\\', \\'unfortunately\\', \\'unless\\', \\'unlike\\', \\'unlikely\\', \\'until\\', \\'unto\\', \\'up\\', \\'upon\\', \\'upwards\\', \\'us\\', \\'use\\', \\'used\\', \\'useful\\', \\'uses\\', \\'using\\', \\'usually\\', \\'v\\', \\'value\\', \\'various\\', \\'versus\\', \\'very\\', \\'via\\', \\'viz\\', \\'vs\\', \\'want\\', \\'wants\\', \\'was\\', \"wasn\\'t\", \\'way\\', \\'we\\', \"we\\'d\", \\'welcome\\', \\'well\\', \"we\\'ll\", \\'went\\', \\'were\\', \"we\\'re\", \"weren\\'t\", \"we\\'ve\", \\'what\\', \\'whatever\\', \"what\\'ll\", \"what\\'s\", \"what\\'ve\", \\'when\\', \\'whence\\', \\'whenever\\', \\'where\\', \\'whereafter\\', \\'whereas\\', \\'whereby\\', \\'wherein\\', \"where\\'s\", \\'whereupon\\', \\'wherever\\', \\'whether\\', \\'which\\', \\'whichever\\', \\'while\\', \\'whilst\\', \\'whither\\', \\'who\\', \"who\\'d\", \\'whoever\\', \\'whole\\', \"who\\'ll\", \\'whom\\', \\'whomever\\', \"who\\'s\", \\'whose\\', \\'why\\', \\'will\\', \\'willing\\', \\'wish\\', \\'with\\', \\'within\\', \\'without\\', \\'wonder\\', \"won\\'t\", \\'would\\', \"wouldn\\'t\", \\'yes\\', \\'yet\\', \\'you\\', \"you\\'d\", \"you\\'ll\", \\'your\\', \"you\\'re\", \\'yours\\', \\'yourself\\', \\'yourselves\\', \"you\\'ve\", \\'zero\\', \\'a\\', \"how\\'s\", \\'i\\', \"when\\'s\", \"why\\'s\", \\'b\\', \\'c\\', \\'d\\', \\'e\\', \\'f\\', \\'g\\', \\'h\\', \\'j\\', \\'l\\', \\'m\\', \\'n\\', \\'o\\', \\'p\\', \\'q\\', \\'r\\', \\'s\\', \\'t\\', \\'u\\', \\'uucp\\', \\'w\\', \\'x\\', \\'y\\', \\'z\\', \\'I\\', \\'www\\', \\'amount\\', \\'bill\\', \\'bottom\\', \\'call\\', \\'computer\\', \\'con\\', \\'couldnt\\', \\'cry\\', \\'de\\', \\'describe\\', \\'detail\\', \\'due\\', \\'eleven\\', \\'empty\\', \\'fifteen\\', \\'fifty\\', \\'fill\\', \\'find\\', \\'fire\\', \\'forty\\', \\'front\\', \\'full\\', \\'give\\', \\'hasnt\\', \\'herse\\', \\'himse\\', \\'interest\\', \\'itse”\\', \\'mill\\', \\'move\\', \\'myse”\\', \\'part\\', \\'put\\', \\'show\\', \\'side\\', \\'sincere\\', \\'sixty\\', \\'system\\', \\'ten\\', \\'thick\\', \\'thin\\', \\'top\\', \\'twelve\\', \\'twenty\\', \\'abst\\', \\'accordance\\', \\'act\\', \\'added\\', \\'adopted\\', \\'affected\\', \\'affecting\\', \\'affects\\', \\'ah\\', \\'announce\\', \\'anymore\\', \\'apparently\\', \\'approximately\\', \\'aren\\', \\'arent\\', \\'arise\\', \\'auth\\', \\'beginning\\', \\'beginnings\\', \\'begins\\', \\'biol\\', \\'briefly\\', \\'ca\\', \\'date\\', \\'ed\\', \\'effect\\', \\'et-al\\', \\'ff\\', \\'fix\\', \\'gave\\', \\'giving\\', \\'heres\\', \\'hes\\', \\'hid\\', \\'home\\', \\'id\\', \\'im\\', \\'immediately\\', \\'importance\\', \\'important\\', \\'index\\', \\'information\\', \\'invention\\', \\'itd\\', \\'keys\\', \\'kg\\', \\'km\\', \\'largely\\', \\'lets\\', \\'line\\', \"\\'ll\", \\'means\\', \\'mg\\', \\'million\\', \\'ml\\', \\'mug\\', \\'na\\', \\'nay\\', \\'necessarily\\', \\'nos\\', \\'noted\\', \\'obtain\\', \\'obtained\\', \\'omitted\\', \\'ord\\', \\'owing\\', \\'page\\', \\'pages\\', \\'poorly\\', \\'possibly\\', \\'potentially\\', \\'pp\\', \\'predominantly\\', \\'present\\', \\'previously\\', \\'primarily\\', \\'promptly\\', \\'proud\\', \\'quickly\\', \\'ran\\', \\'readily\\', \\'ref\\', \\'refs\\', \\'related\\', \\'research\\', \\'resulted\\', \\'resulting\\', \\'results\\', \\'run\\', \\'sec\\', \\'section\\', \\'shed\\', \\'shes\\', \\'showed\\', \\'shown\\', \\'showns\\', \\'shows\\', \\'significant\\', \\'significantly\\', \\'similar\\', \\'similarly\\', \\'slightly\\', \\'somethan\\', \\'specifically\\', \\'state\\', \\'states\\', \\'stop\\', \\'strongly\\', \\'substantially\\', \\'successfully\\', \\'sufficiently\\', \\'suggest\\', \\'thered\\', \\'thereof\\', \\'therere\\', \\'thereto\\', \\'theyd\\', \\'theyre\\', \\'thou\\', \\'thoughh\\', \\'thousand\\', \\'throug\\', \\'til\\', \\'tip\\', \\'ts\\', \\'ups\\', \\'usefully\\', \\'usefulness\\', \"\\'ve\", \\'vol\\', \\'vols\\', \\'wed\\', \\'whats\\', \\'wheres\\', \\'whim\\', \\'whod\\', \\'whos\\', \\'widely\\', \\'words\\', \\'world\\', \\'youd\\', \\'youre\\'\\n] '"
      ]
     },
     "execution_count": 47,
     "metadata": {
      "tags": []
     },
     "output_type": "execute_result"
    }
   ],
   "source": [
    "f = open('./drive/My Drive/text.txt', 'r')\n",
    "f.read()"
   ]
  },
  {
   "cell_type": "markdown",
   "metadata": {
    "id": "zEUzozxJyraD"
   },
   "source": [
    "Подключаем пакет findspark"
   ]
  },
  {
   "cell_type": "code",
   "execution_count": null,
   "metadata": {
    "id": "-P_f78dwSqBf"
   },
   "outputs": [],
   "source": [
    "import findspark\n",
    "findspark.init()"
   ]
  },
  {
   "cell_type": "markdown",
   "metadata": {
    "id": "T7lFXGmeyym8"
   },
   "source": [
    "Подключаем пакет SparkSession"
   ]
  },
  {
   "cell_type": "code",
   "execution_count": null,
   "metadata": {
    "id": "UuCtgIWJVC8G"
   },
   "outputs": [],
   "source": [
    "from pyspark.sql import SparkSession"
   ]
  },
  {
   "cell_type": "markdown",
   "metadata": {
    "id": "oR-X9I5Hy1Lq"
   },
   "source": [
    "Создаём новую сессию"
   ]
  },
  {
   "cell_type": "code",
   "execution_count": null,
   "metadata": {
    "id": "NONGgXB7Z6L2"
   },
   "outputs": [],
   "source": [
    "spark = SparkSession.builder.master('local').appName(\"HPC.Lab1\").getOrCreate()"
   ]
  },
  {
   "cell_type": "markdown",
   "metadata": {
    "id": "WOks8Vyjy5Ks"
   },
   "source": [
    "Загружаем данные из исходного датасета в дата-фрейм main_df и показываем"
   ]
  },
  {
   "cell_type": "code",
   "execution_count": null,
   "metadata": {
    "colab": {
     "base_uri": "https://localhost:8080/"
    },
    "id": "tKlFQkNTZ7Dv",
    "outputId": "37a5adec-303d-4400-bd28-809184ecb5a9"
   },
   "outputs": [
    {
     "name": "stdout",
     "output_type": "stream",
     "text": [
      "+---+--------------------+--------------------+--------------------+--------+--------------------+--------------------+-------------+\n",
      "| ID|               TITLE|                 URL|           PUBLISHER|CATEGORY|               STORY|            HOSTNAME|    TIMESTAMP|\n",
      "+---+--------------------+--------------------+--------------------+--------+--------------------+--------------------+-------------+\n",
      "|  1|Fed official says...|http://www.latime...|   Los Angeles Times|       b|ddUyU0VZz0BRneMio...|     www.latimes.com|1394470370698|\n",
      "|  2|Fed's Charles Plo...|http://www.livemi...|            Livemint|       b|ddUyU0VZz0BRneMio...|    www.livemint.com|1394470371207|\n",
      "|  3|US open: Stocks f...|http://www.ifamag...|        IFA Magazine|       b|ddUyU0VZz0BRneMio...| www.ifamagazine.com|1394470371550|\n",
      "|  4|Fed risks falling...|http://www.ifamag...|        IFA Magazine|       b|ddUyU0VZz0BRneMio...| www.ifamagazine.com|1394470371793|\n",
      "|  5|Fed's Plosser: Na...|http://www.moneyn...|           Moneynews|       b|ddUyU0VZz0BRneMio...|   www.moneynews.com|1394470372027|\n",
      "|  6|Plosser: Fed May ...|http://www.nasdaq...|              NASDAQ|       b|ddUyU0VZz0BRneMio...|      www.nasdaq.com|1394470372212|\n",
      "|  7|Fed's Plosser: Ta...|http://www.market...|         MarketWatch|       b|ddUyU0VZz0BRneMio...| www.marketwatch.com|1394470372405|\n",
      "|  8|Fed's Plosser exp...|http://www.fxstre...|        FXstreet.com|       b|ddUyU0VZz0BRneMio...|    www.fxstreet.com|1394470372615|\n",
      "|  9|US jobs growth la...|http://economicti...|      Economic Times|       b|ddUyU0VZz0BRneMio...|economictimes.ind...|1394470372792|\n",
      "| 10|ECB unlikely to e...|http://www.iii.co...|Interactive Investor|       b|dPhGU51DcrolUIMxb...|       www.iii.co.uk|1394470501265|\n",
      "| 11|ECB unlikely to e...|http://in.reuters...|       Reuters India|       b|dPhGU51DcrolUIMxb...|      in.reuters.com|1394470501410|\n",
      "| 12|EU's half-baked b...|http://blogs.reut...| Reuters UK \\(blog\\)|       b|dPhGU51DcrolUIMxb...|   blogs.reuters.com|1394470501587|\n",
      "| 13|Europe reaches cr...|http://in.reuters...|             Reuters|       b|dPhGU51DcrolUIMxb...|      in.reuters.com|1394470501755|\n",
      "| 14|ECB FOCUS-Stronge...|http://in.reuters...|             Reuters|       b|dPhGU51DcrolUIMxb...|      in.reuters.com|1394470501948|\n",
      "| 15|EU aims for deal ...|http://main.omano...| Oman Daily Observer|       b|dPhGU51DcrolUIMxb...|main.omanobserver.om|1394470502141|\n",
      "| 16|Forex - Pound dro...|http://www.nasdaq...|              NASDAQ|       b|dPhGU51DcrolUIMxb...|      www.nasdaq.com|1394470502316|\n",
      "| 17|Noyer Says Strong...|http://www.sfgate...|San Francisco Chr...|       b|dPhGU51DcrolUIMxb...|      www.sfgate.com|1394470502543|\n",
      "| 18|EU Week Ahead Mar...|http://blogs.wsj....|Wall Street Journ...|       b|dPhGU51DcrolUIMxb...|       blogs.wsj.com|1394470502744|\n",
      "| 19|ECB member Noyer ...|http://www.ifamag...|        IFA Magazine|       b|dPhGU51DcrolUIMxb...| www.ifamagazine.com|1394470502946|\n",
      "| 20|Euro Anxieties Wa...|http://www.busine...|        Businessweek|       b|dPhGU51DcrolUIMxb...|www.businessweek.com|1394470503148|\n",
      "+---+--------------------+--------------------+--------------------+--------+--------------------+--------------------+-------------+\n",
      "only showing top 20 rows\n",
      "\n"
     ]
    }
   ],
   "source": [
    "data = spark.read.csv(r\"./drive/My Drive/data.csv\", header=True)\n",
    "data.show()"
   ]
  },
  {
   "cell_type": "code",
   "execution_count": null,
   "metadata": {
    "id": "qinD7DcHaKHs"
   },
   "outputs": [],
   "source": [
    "data = data.na.drop()"
   ]
  },
  {
   "cell_type": "code",
   "execution_count": null,
   "metadata": {
    "colab": {
     "base_uri": "https://localhost:8080/"
    },
    "id": "FyVNiHh-JfHT",
    "outputId": "f341a9f2-c51c-451f-dc39-3ef342832af6"
   },
   "outputs": [
    {
     "name": "stdout",
     "output_type": "stream",
     "text": [
      "+--------------------+------+\n",
      "|            category| count|\n",
      "+--------------------+------+\n",
      "|                   e|152127|\n",
      "|                   b|115934|\n",
      "|                   t|108236|\n",
      "|                   m| 45616|\n",
      "|         Us Magazine|    31|\n",
      "|    Contactmusic.com|    20|\n",
      "|           GossipCop|    20|\n",
      "|         Complex.com|    12|\n",
      "|            CBS News|    12|\n",
      "|            HipHopDX|    11|\n",
      "|The Hollywood Gossip|    11|\n",
      "| We Got This Covered|    10|\n",
      "|  HeadlinePlanet.com|    10|\n",
      "|             Gamepur|     8|\n",
      "|Consequence of Sound|     7|\n",
      "|            Wetpaint|     7|\n",
      "|   WorstPreviews.com|     7|\n",
      "|          TooFab.com|     7|\n",
      "|        The Escapist|     6|\n",
      "|    Reality TV World|     5|\n",
      "+--------------------+------+\n",
      "only showing top 20 rows\n",
      "\n"
     ]
    }
   ],
   "source": [
    "from pyspark.sql.functions import col\n",
    "data.groupBy(\"category\") \\\n",
    "    .count() \\\n",
    "    .orderBy(col(\"count\").desc()) \\\n",
    "    .show()"
   ]
  },
  {
   "cell_type": "code",
   "execution_count": null,
   "metadata": {
    "colab": {
     "base_uri": "https://localhost:8080/"
    },
    "id": "yfAo-k-bmczy",
    "outputId": "be071ab6-0aec-4c8f-8c2c-3b9c4313d6c4"
   },
   "outputs": [
    {
     "name": "stdout",
     "output_type": "stream",
     "text": [
      "+--------+------+\n",
      "|category| count|\n",
      "+--------+------+\n",
      "|       e|152127|\n",
      "|       b|115934|\n",
      "|       t|108236|\n",
      "|       m| 45616|\n",
      "+--------+------+\n",
      "\n"
     ]
    }
   ],
   "source": [
    "data = data.where(col(\"CATEGORY\").isin([\"e\", \"b\", \"t\", \"m\"]))\n",
    "data.groupBy(\"category\") \\\n",
    "    .count() \\\n",
    "    .orderBy(col(\"count\").desc()) \\\n",
    "    .show()"
   ]
  },
  {
   "cell_type": "code",
   "execution_count": null,
   "metadata": {
    "colab": {
     "base_uri": "https://localhost:8080/"
    },
    "id": "_gt2ukFCJxcI",
    "outputId": "5fb186db-574a-4915-ad3f-a1c90051670f"
   },
   "outputs": [
    {
     "name": "stdout",
     "output_type": "stream",
     "text": [
      "root\n",
      " |-- ID: string (nullable = true)\n",
      " |-- TITLE: string (nullable = true)\n",
      " |-- URL: string (nullable = true)\n",
      " |-- PUBLISHER: string (nullable = true)\n",
      " |-- CATEGORY: string (nullable = true)\n",
      " |-- STORY: string (nullable = true)\n",
      " |-- HOSTNAME: string (nullable = true)\n",
      " |-- TIMESTAMP: string (nullable = true)\n",
      "\n"
     ]
    }
   ],
   "source": [
    "data.printSchema()"
   ]
  },
  {
   "cell_type": "code",
   "execution_count": null,
   "metadata": {
    "id": "Df3t0DagM06L"
   },
   "outputs": [],
   "source": [
    "from pyspark.ml.feature import RegexTokenizer, StopWordsRemover, CountVectorizer\n",
    "from pyspark.ml.classification import LogisticRegression\n",
    "# regular expression tokenizer\n",
    "regexTokenizer = RegexTokenizer(inputCol=\"TITLE\", outputCol=\"words\", pattern=\"\\\\W\")\n",
    "# stop words\n",
    "add_stopwords = [\"http\",\"https\",\"amp\",\"rt\",\"t\",\"c\",\"the\",'able', 'about', 'above', 'abroad', 'according', 'accordingly', 'across', 'actually', 'adj', 'after', 'afterwards', 'again', 'against', 'ago', 'ahead', \"ain't\", 'all', 'allow', 'allows', 'almost', 'alone', 'along', 'alongside', 'already', 'also', 'although', 'always', 'am', 'amid', 'amidst', 'among', 'amongst', 'an', 'and', 'another', 'any', 'anybody', 'anyhow', 'anyone', 'anything', 'anyway', 'anyways', 'anywhere', 'apart', 'appear', 'appreciate', 'appropriate', 'are', \"aren't\", 'around', 'as', \"a's\", 'aside', 'ask', 'asking', 'associated', 'at', 'available', 'away', 'awfully', 'back', 'backward', 'backwards', 'be', 'became', 'because', 'become', 'becomes', 'becoming', 'been', 'before', 'beforehand', 'begin', 'behind', 'being', 'believe', 'below', 'beside', 'besides', 'best', 'better', 'between', 'beyond', 'both', 'brief', 'but', 'by', 'came', 'can', 'cannot', 'cant', \"can't\", 'caption', 'cause', 'causes', 'certain', 'certainly', 'changes', 'clearly', \"c'mon\", 'co', 'co.', 'com', 'come', 'comes', 'concerning', 'consequently', 'consider', 'considering', 'contain', 'containing', 'contains', 'corresponding', 'could', \"couldn't\", 'course', \"c's\", 'currently', 'dare', \"daren't\", 'definitely', 'described', 'despite', 'did', \"didn't\", 'different', 'directly', 'do', 'does', \"doesn't\", 'doing', 'done', \"don't\", 'down', 'downwards', 'during', 'each', 'edu', 'eg', 'eight', 'eighty', 'either', 'else', 'elsewhere', 'end', 'ending', 'enough', 'entirely', 'especially', 'et', 'etc', 'even', 'ever', 'evermore', 'every', 'everybody', 'everyone', 'everything', 'everywhere', 'ex', 'exactly', 'example', 'except', 'fairly', 'far', 'farther', 'few', 'fewer', 'fifth', 'first', 'five', 'followed', 'following', 'follows', 'for', 'forever', 'former', 'formerly', 'forth', 'forward', 'found', 'four', 'from', 'further', 'furthermore', 'get', 'gets', 'getting', 'given', 'gives', 'go', 'goes', 'going', 'gone', 'got', 'gotten', 'greetings', 'had', \"hadn't\", 'half', 'happens', 'hardly', 'has', \"hasn't\", 'have', \"haven't\", 'having', 'he', \"he'd\", \"he'll\", 'hello', 'help', 'hence', 'her', 'here', 'hereafter', 'hereby', 'herein', \"here's\", 'hereupon', 'hers', 'herself', \"he's\", 'hi', 'him', 'himself', 'his', 'hither', 'hopefully', 'how', 'howbeit', 'however', 'hundred', \"i'd\", 'ie', 'if', 'ignored', \"i'll\", \"i'm\", 'immediate', 'in', 'inasmuch', 'inc', 'inc.', 'indeed', 'indicate', 'indicated', 'indicates', 'inner', 'inside', 'insofar', 'instead', 'into', 'inward', 'is', \"isn't\", 'it', \"it'd\", \"it'll\", 'its', \"it's\", 'itself', \"i've\", 'just', 'k', 'keep', 'keeps', 'kept', 'know', 'known', 'knows', 'last', 'lately', 'later', 'latter', 'latterly', 'least', 'less', 'lest', 'let', \"let's\", 'like', 'liked', 'likely', 'likewise', 'little', 'look', 'looking', 'looks', 'low', 'lower', 'ltd', 'made', 'mainly', 'make', 'makes', 'many', 'may', 'maybe', \"mayn't\", 'me', 'mean', 'meantime', 'meanwhile', 'merely', 'might', \"mightn't\", 'mine', 'minus', 'miss', 'more', 'moreover', 'most', 'mostly', 'mr', 'mrs', 'much', 'must', \"mustn't\", 'my', 'myself', 'name', 'namely', 'nd', 'near', 'nearly', 'necessary', 'need', \"needn't\", 'needs', 'neither', 'never', 'neverf', 'neverless', 'nevertheless', 'new', 'next', 'nine', 'ninety', 'no', 'nobody', 'non', 'none', 'nonetheless', 'noone', 'no-one', 'nor', 'normally', 'not', 'nothing', 'notwithstanding', 'novel', 'now', 'nowhere', 'obviously', 'of', 'off', 'often', 'oh', 'ok', 'okay', 'old', 'on', 'once', 'one', 'ones', \"one's\", 'only', 'onto', 'opposite', 'or', 'other', 'others', 'otherwise', 'ought', \"oughtn't\", 'our', 'ours', 'ourselves', 'out', 'outside', 'over', 'overall', 'own', 'particular', 'particularly', 'past', 'per', 'perhaps', 'placed', 'please', 'plus', 'possible', 'presumably', 'probably', 'provided', 'provides', 'que', 'quite', 'qv', 'rather', 'rd', 're', 'really', 'reasonably', 'recent', 'recently', 'regarding', 'regardless', 'regards', 'relatively', 'respectively', 'right', 'round', 'said', 'same', 'saw', 'say', 'saying', 'says', 'second', 'secondly', 'see', 'seeing', 'seem', 'seemed', 'seeming', 'seems', 'seen', 'self', 'selves', 'sensible', 'sent', 'serious', 'seriously', 'seven', 'several', 'shall', \"shan't\", 'she', \"she'd\", \"she'll\", \"she's\", 'should', \"shouldn't\", 'since', 'six', 'so', 'some', 'somebody', 'someday', 'somehow', 'someone', 'something', 'sometime', 'sometimes', 'somewhat', 'somewhere', 'soon', 'sorry', 'specified', 'specify', 'specifying', 'still', 'sub', 'such', 'sup', 'sure', 'take', 'taken', 'taking', 'tell', 'tends', 'th', 'than', 'thank', 'thanks', 'thanx', 'that', \"that'll\", 'thats', \"that's\", \"that've\", 'the', 'their', 'theirs', 'them', 'themselves', 'then', 'thence', 'there', 'thereafter', 'thereby', \"there'd\", 'therefore', 'therein', \"there'll\", \"there're\", 'theres', \"there's\", 'thereupon', \"there've\", 'these', 'they', \"they'd\", \"they'll\", \"they're\", \"they've\", 'thing', 'things', 'think', 'third', 'thirty', 'this', 'thorough', 'thoroughly', 'those', 'though', 'three', 'through', 'throughout', 'thru', 'thus', 'till', 'to', 'together', 'too', 'took', 'toward', 'towards', 'tried', 'tries', 'truly', 'try', 'trying', \"t's\", 'twice', 'two', 'un', 'under', 'underneath', 'undoing', 'unfortunately', 'unless', 'unlike', 'unlikely', 'until', 'unto', 'up', 'upon', 'upwards', 'us', 'use', 'used', 'useful', 'uses', 'using', 'usually', 'v', 'value', 'various', 'versus', 'very', 'via', 'viz', 'vs', 'want', 'wants', 'was', \"wasn't\", 'way', 'we', \"we'd\", 'welcome', 'well', \"we'll\", 'went', 'were', \"we're\", \"weren't\", \"we've\", 'what', 'whatever', \"what'll\", \"what's\", \"what've\", 'when', 'whence', 'whenever', 'where', 'whereafter', 'whereas', 'whereby', 'wherein', \"where's\", 'whereupon', 'wherever', 'whether', 'which', 'whichever', 'while', 'whilst', 'whither', 'who', \"who'd\", 'whoever', 'whole', \"who'll\", 'whom', 'whomever', \"who's\", 'whose', 'why', 'will', 'willing', 'wish', 'with', 'within', 'without', 'wonder', \"won't\", 'would', \"wouldn't\", 'yes', 'yet', 'you', \"you'd\", \"you'll\", 'your', \"you're\", 'yours', 'yourself', 'yourselves', \"you've\", 'zero', 'a', \"how's\", 'i', \"when's\", \"why's\", 'b', 'c', 'd', 'e', 'f', 'g', 'h', 'j', 'l', 'm', 'n', 'o', 'p', 'q', 'r', 's', 't', 'u', 'uucp', 'w', 'x', 'y', 'z', 'I', 'www', 'amount', 'bill', 'bottom', 'call', 'computer', 'con', 'couldnt', 'cry', 'de', 'describe', 'detail', 'due', 'eleven', 'empty', 'fifteen', 'fifty', 'fill', 'find', 'fire', 'forty', 'front', 'full', 'give', 'hasnt', 'herse', 'himse', 'interest', 'itse”', 'mill', 'move', 'myse”', 'part', 'put', 'show', 'side', 'sincere', 'sixty', 'system', 'ten', 'thick', 'thin', 'top', 'twelve', 'twenty', 'abst', 'accordance', 'act', 'added', 'adopted', 'affected', 'affecting', 'affects', 'ah', 'announce', 'anymore', 'apparently', 'approximately', 'aren', 'arent', 'arise', 'auth', 'beginning', 'beginnings', 'begins', 'biol', 'briefly', 'ca', 'date', 'ed', 'effect', 'et-al', 'ff', 'fix', 'gave', 'giving', 'heres', 'hes', 'hid', 'home', 'id', 'im', 'immediately', 'importance', 'important', 'index', 'information', 'invention', 'itd', 'keys', 'kg', 'km', 'largely', 'lets', 'line', \"'ll\", 'means', 'mg', 'million', 'ml', 'mug', 'na', 'nay', 'necessarily', 'nos', 'noted', 'obtain', 'obtained', 'omitted', 'ord', 'owing', 'page', 'pages', 'poorly', 'possibly', 'potentially', 'pp', 'predominantly', 'present', 'previously', 'primarily', 'promptly', 'proud', 'quickly', 'ran', 'readily', 'ref', 'refs', 'related', 'research', 'resulted', 'resulting', 'results', 'run', 'sec', 'section', 'shed', 'shes', 'showed', 'shown', 'showns', 'shows', 'significant', 'significantly', 'similar', 'similarly', 'slightly', 'somethan', 'specifically', 'state', 'states', 'stop', 'strongly', 'substantially', 'successfully', 'sufficiently', 'suggest', 'thered', 'thereof', 'therere', 'thereto', 'theyd', 'theyre', 'thou', 'thoughh', 'thousand', 'throug', 'til', 'tip', 'ts', 'ups', 'usefully', 'usefulness', \"'ve\", 'vol', 'vols', 'wed', 'whats', 'wheres', 'whim', 'whod', 'whos', 'widely', 'words', 'world', 'youd', 'youre'\n",
    "] \n",
    "stopwordsRemover = StopWordsRemover(inputCol=\"words\", outputCol=\"filtered\").setStopWords(add_stopwords)\n",
    "# bag of words count\n",
    "countVectors = CountVectorizer(inputCol=\"filtered\", outputCol=\"features\", vocabSize=10000, minDF=5)"
   ]
  },
  {
   "cell_type": "code",
   "execution_count": null,
   "metadata": {
    "colab": {
     "base_uri": "https://localhost:8080/"
    },
    "id": "1yl4Oe0ENBdm",
    "outputId": "9f7a1bef-17a3-4cc9-ce0c-fedfcfd40591"
   },
   "outputs": [
    {
     "name": "stdout",
     "output_type": "stream",
     "text": [
      "+---+--------------------+--------------------+-----------------+--------+--------------------+-------------------+-------------+--------------------+--------------------+--------------------+-----+\n",
      "| ID|               TITLE|                 URL|        PUBLISHER|CATEGORY|               STORY|           HOSTNAME|    TIMESTAMP|               words|            filtered|            features|label|\n",
      "+---+--------------------+--------------------+-----------------+--------+--------------------+-------------------+-------------+--------------------+--------------------+--------------------+-----+\n",
      "|  1|Fed official says...|http://www.latime...|Los Angeles Times|       b|ddUyU0VZz0BRneMio...|    www.latimes.com|1394470370698|[fed, official, s...|[fed, official, w...|(10000,[40,98,331...|  1.0|\n",
      "|  2|Fed's Charles Plo...|http://www.livemi...|         Livemint|       b|ddUyU0VZz0BRneMio...|   www.livemint.com|1394470371207|[fed, s, charles,...|[fed, charles, pl...|(10000,[52,75,98,...|  1.0|\n",
      "|  3|US open: Stocks f...|http://www.ifamag...|     IFA Magazine|       b|ddUyU0VZz0BRneMio...|www.ifamagazine.com|1394470371550|[us, open, stocks...|[open, stocks, fa...|(10000,[25,98,141...|  1.0|\n",
      "|  4|Fed risks falling...|http://www.ifamag...|     IFA Magazine|       b|ddUyU0VZz0BRneMio...|www.ifamagazine.com|1394470371793|[fed, risks, fall...|[fed, risks, fall...|(10000,[98,1126,1...|  1.0|\n",
      "|  5|Fed's Plosser: Na...|http://www.moneyn...|        Moneynews|       b|ddUyU0VZz0BRneMio...|  www.moneynews.com|1394470372027|[fed, s, plosser,...|[fed, plosser, na...|(10000,[98,104,44...|  1.0|\n",
      "+---+--------------------+--------------------+-----------------+--------+--------------------+-------------------+-------------+--------------------+--------------------+--------------------+-----+\n",
      "only showing top 5 rows\n",
      "\n"
     ]
    }
   ],
   "source": [
    "from pyspark.ml import Pipeline\n",
    "from pyspark.ml.feature import OneHotEncoder, StringIndexer, VectorAssembler\n",
    "label_stringIdx = StringIndexer(inputCol = \"CATEGORY\", outputCol = \"label\")\n",
    "pipeline = Pipeline(stages=[regexTokenizer, stopwordsRemover, countVectors, label_stringIdx])\n",
    "# Fit the pipeline to training documents.\n",
    "pipelineFit = pipeline.fit(data)\n",
    "pipelineFit\n",
    "dataset = pipelineFit.transform(data)\n",
    "dataset.show(5)"
   ]
  },
  {
   "cell_type": "code",
   "execution_count": null,
   "metadata": {
    "colab": {
     "base_uri": "https://localhost:8080/"
    },
    "id": "Z0E94tbaNExd",
    "outputId": "c0b415af-31a5-42a7-8be4-99204ad9a03d"
   },
   "outputs": [
    {
     "name": "stdout",
     "output_type": "stream",
     "text": [
      "Training Dataset Count: 295372\n",
      "Test Dataset Count: 126541\n"
     ]
    }
   ],
   "source": [
    "# set seed for reproducibility\n",
    "(trainingData, testData) = dataset.randomSplit([0.7, 0.3], seed = 100)\n",
    "print(\"Training Dataset Count: \" + str(trainingData.count()))\n",
    "print(\"Test Dataset Count: \" + str(testData.count()))"
   ]
  },
  {
   "cell_type": "code",
   "execution_count": null,
   "metadata": {
    "colab": {
     "base_uri": "https://localhost:8080/"
    },
    "id": "ihmpv-YtNZeP",
    "outputId": "4ea82f52-89d6-47d2-be2b-7ba43c58b578"
   },
   "outputs": [
    {
     "name": "stdout",
     "output_type": "stream",
     "text": [
      "+------------------------------+--------+------------------------------+-----+----------+\n",
      "|                         TITLE|CATEGORY|                   probability|label|prediction|\n",
      "+------------------------------+--------+------------------------------+-----+----------+\n",
      "|'How I Met Your Mother' Ser...|       e|[0.9938736875109319,0.00186...|  0.0|       0.0|\n",
      "|ACM Awards 2014: Blake Shel...|       e|[0.9936239157065867,0.00175...|  0.0|       0.0|\n",
      "|Kim Kardashian, Lamar Odom ...|       e|[0.992842836723842,0.002733...|  0.0|       0.0|\n",
      "|Tony Awards 2014: Neil Patr...|       e|[0.9920767927677879,0.00315...|  0.0|       0.0|\n",
      "|Courtney Love booed onstage...|       e|[0.9919576377354484,0.00196...|  0.0|       0.0|\n",
      "|Jay Z, Beyoncé Laugh At Kan...|       e|[0.9919211340179123,0.00267...|  0.0|       0.0|\n",
      "|BET Awards 2014 in Video: B...|       e|[0.9915938018770264,0.00298...|  0.0|       0.0|\n",
      "|Horror Movie 'Deliver Us Fr...|       e|[0.9914383280160927,0.00282...|  0.0|       0.0|\n",
      "|Rihanna, Nicki Minaj, Iggy ...|       e|[0.9914055919377684,0.00290...|  0.0|       0.0|\n",
      "|Nirvana Reunites at Rock Ha...|       e|[0.9913375611620652,0.00214...|  0.0|       0.0|\n",
      "+------------------------------+--------+------------------------------+-----+----------+\n",
      "only showing top 10 rows\n",
      "\n"
     ]
    }
   ],
   "source": [
    "lr = LogisticRegression(maxIter=5, regParam=0.3, elasticNetParam=0)\n",
    "lrModel = lr.fit(trainingData)\n",
    "predictions = lrModel.transform(testData)\n",
    "predictions.filter(predictions['prediction'] == 0) \\\n",
    "    .select(\"TITLE\",\"CATEGORY\",\"probability\",\"label\",\"prediction\") \\\n",
    "    .orderBy(\"probability\", ascending=False) \\\n",
    "    .show(n = 10, truncate = 30)"
   ]
  },
  {
   "cell_type": "code",
   "execution_count": null,
   "metadata": {
    "colab": {
     "base_uri": "https://localhost:8080/"
    },
    "id": "tyCf0f4rPYbq",
    "outputId": "d3fca99b-1fd3-4560-b974-2675af97bb15"
   },
   "outputs": [
    {
     "data": {
      "text/plain": [
       "0.9250962868587319"
      ]
     },
     "execution_count": 41,
     "metadata": {
      "tags": []
     },
     "output_type": "execute_result"
    }
   ],
   "source": [
    "from pyspark.ml.evaluation import MulticlassClassificationEvaluator\n",
    "evaluator = MulticlassClassificationEvaluator(predictionCol=\"prediction\")\n",
    "evaluator.evaluate(predictions)"
   ]
  }
 ],
 "metadata": {
  "colab": {
   "collapsed_sections": [],
   "name": "kp_obtech_v2.ipynb",
   "provenance": []
  },
  "kernelspec": {
   "display_name": "Python 3 (ipykernel)",
   "language": "python",
   "name": "python3"
  },
  "language_info": {
   "codemirror_mode": {
    "name": "ipython",
    "version": 3
   },
   "file_extension": ".py",
   "mimetype": "text/x-python",
   "name": "python",
   "nbconvert_exporter": "python",
   "pygments_lexer": "ipython3",
   "version": "3.9.7"
  }
 },
 "nbformat": 4,
 "nbformat_minor": 1
}
